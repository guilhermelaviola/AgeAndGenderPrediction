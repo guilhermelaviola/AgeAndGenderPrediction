{
  "nbformat": 4,
  "nbformat_minor": 0,
  "metadata": {
    "colab": {
      "provenance": [],
      "authorship_tag": "ABX9TyP+ofPD3wBl9X2DGFXGQk+S",
      "include_colab_link": true
    },
    "kernelspec": {
      "name": "python3",
      "display_name": "Python 3"
    },
    "language_info": {
      "name": "python"
    }
  },
  "cells": [
    {
      "cell_type": "markdown",
      "metadata": {
        "id": "view-in-github",
        "colab_type": "text"
      },
      "source": [
        "<a href=\"https://colab.research.google.com/github/guilhermelaviola/AgeAndGenderPrediction/blob/main/Detector.ipynb\" target=\"_parent\"><img src=\"https://colab.research.google.com/assets/colab-badge.svg\" alt=\"Open In Colab\"/></a>"
      ]
    },
    {
      "cell_type": "code",
      "execution_count": null,
      "metadata": {
        "id": "vSbCSf7X3y8P"
      },
      "outputs": [],
      "source": [
        "# Importing all the necessary libraries:\n",
        "import cv2\n",
        "import math\n",
        "import argparse"
      ]
    },
    {
      "cell_type": "code",
      "source": [
        "def highlightFace(net, frame, conf_threshold = 0.7):\n",
        "  frameOpencvDnn = frame.copy()\n",
        "  frameHeight = frameOpencvDnn.shape[0]\n",
        "  frameWidth = frameOpencvDnn.shape[1]\n",
        "  blob = cv2.dnn.blobFromImage(frameOpencvDnn,\n",
        "                               1.0, (300, 300),\n",
        "                               [104, 117, 123],\n",
        "                               True, False)\n",
        "\n",
        "  net."
      ],
      "metadata": {
        "id": "kPEJpIff38tt"
      },
      "execution_count": null,
      "outputs": []
    }
  ]
}